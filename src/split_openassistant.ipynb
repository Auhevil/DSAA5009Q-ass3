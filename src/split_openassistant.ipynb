{
 "cells": [
  {
   "cell_type": "code",
   "execution_count": 6,
   "id": "a1460046",
   "metadata": {},
   "outputs": [
    {
     "name": "stdout",
     "output_type": "stream",
     "text": [
      "DatasetDict({\n",
      "    train: Dataset({\n",
      "        features: ['text'],\n",
      "        num_rows: 9846\n",
      "    })\n",
      "    test: Dataset({\n",
      "        features: ['text'],\n",
      "        num_rows: 518\n",
      "    })\n",
      "})\n",
      "{'text': '### Human: Can you write a short introduction about the relevance of the term \"monopsony\" in economics? Please use examples related to potential monopsonies in the labour market and cite relevant research.### Assistant: \"Monopsony\" refers to a market structure where there is only one buyer for a particular good or service. In economics, this term is particularly relevant in the labor market, where a monopsony employer has significant power over the wages and working conditions of their employees. The presence of a monopsony can result in lower wages and reduced employment opportunities for workers, as the employer has little incentive to increase wages or provide better working conditions.\\n\\nRecent research has identified potential monopsonies in industries such as retail and fast food, where a few large companies control a significant portion of the market (Bivens & Mishel, 2013). In these industries, workers often face low wages, limited benefits, and reduced bargaining power, leading to a situation where they are dependent on the employer for their livelihood. This dependence can result in further suppression of wages and a decline in working conditions.\\n\\nOverall, the concept of monopsony is essential to understanding the dynamics of labor markets and the impact of market power on workers. Further research is needed to understand the extent and impact of monopsonies on the economy and to develop policies to address this issue.\\n\\nReferences:\\nBivens, J., & Mishel, L. (2013). The Pay of Corporate Executives and Financial Professionals as Evidence of Rents in Top 1 Percent Incomes. Journal of Economic Perspectives, 27(3), 57-78.### Human: Now explain it to a dog'}\n"
     ]
    }
   ],
   "source": [
    "from datasets import load_dataset\n",
    "\n",
    "# 加载本地数据集\n",
    "dataset = dataset = load_dataset(\n",
    "    \"json\",  # 指定数据文件格式\n",
    "    data_files={\n",
    "        \"train\": \"../data/openassistant-guanaco/openassistant_best_replies_train.jsonl\",\n",
    "        \"test\": \"../data/openassistant-guanaco/openassistant_best_replies_eval.jsonl\"\n",
    "    }\n",
    ")\n",
    "\n",
    "# 查看数据集的基本信息\n",
    "print(dataset)\n",
    "\n",
    "# 查看训练集的前几条样本\n",
    "print(dataset[\"train\"][0])  # 查看第一条数据"
   ]
  },
  {
   "cell_type": "code",
   "execution_count": 22,
   "id": "437252e2",
   "metadata": {},
   "outputs": [],
   "source": [
    "import json\n",
    "import re\n",
    "\n",
    "# 提取第一轮对话\n",
    "def extract_first_turn(text):\n",
    "    pattern = r\"### Human: (.*?)### Assistant: (.*?)(?=### Human:|$)\"\n",
    "    match = re.search(pattern, text, re.DOTALL)\n",
    "    if match:\n",
    "        return {\n",
    "            \"instruction\": \"\",\n",
    "            \"output\": match.group(1).strip(),\n",
    "            \"input\": match.group(2).strip()\n",
    "        }\n",
    "    else:\n",
    "        return None  # 没匹配到就返回 None\n",
    "\n",
    "# 用来存放所有样本的列表\n",
    "selected_data = []\n",
    "\n",
    "# 提取前 3200 条数据中的第一轮问答\n",
    "for example in dataset[\"train\"]:\n",
    "    text = example[\"text\"]\n",
    "    first_turn = extract_first_turn(text)\n",
    "    if first_turn:\n",
    "        selected_data.append(first_turn)\n",
    "\n",
    "# 写入为一个 JSON 文件，格式为列表\n",
    "output_file_path = \"../data/selected_data.json\"\n",
    "with open(output_file_path, \"w\", encoding=\"utf-8\") as f:\n",
    "    json.dump(selected_data, f, indent=4, ensure_ascii=False)"
   ]
  }
 ],
 "metadata": {
  "kernelspec": {
   "display_name": "base",
   "language": "python",
   "name": "python3"
  },
  "language_info": {
   "codemirror_mode": {
    "name": "ipython",
    "version": 3
   },
   "file_extension": ".py",
   "mimetype": "text/x-python",
   "name": "python",
   "nbconvert_exporter": "python",
   "pygments_lexer": "ipython3",
   "version": "3.12.9"
  }
 },
 "nbformat": 4,
 "nbformat_minor": 5
}
